{
 "cells": [
  {
   "cell_type": "markdown",
   "metadata": {},
   "source": [
    "# **Chpater 02: The Series object**  \n",
    "\n",
    "gonna learn about:\n",
    "- Instantiating `Series` objects from lists, dictionaries, tuples, and more\n",
    "- Setting a custom index on a `Series`\n",
    "- Accessing attributes and invoking methods on\n",
    "a `Series`\n",
    "- Performing mathematical operations on one\n",
    "or more `Series`\n",
    "- Passing the `Series` to Python’s built-in functions\n",
    "\n",
    "<br>  \n",
    "\n",
    "`Series`:  \n",
    "- one of pandas' core data structures  \n",
    "- a one-dimensional labeled array for homogeneous data  \n",
    "    - *array*:  \n",
    "    an ordered collection of values comparable to a list in Python  \n",
    "    - *homogeneous*:  \n",
    "    the values are of the same data type  \n",
    "    (ex. all integers or all Booleans, ...)  \n",
    "    - *labeled*:  \n",
    "        - pandas assigns each `Series` value a *label*  \n",
    "        - *label*: an identifier we can use to locate the value\n",
    "- pandas assigns each `Series` value an *order*  \n",
    "    - *order*:  \n",
    "    a position in line  \n",
    "    it starts counting from 0  \n",
    "    &rightarrow; the first `Series` value occupies position 0, the second value occupies position 1, and so on  \n",
    "- the `Series` is a one-dimensional data structure  \n",
    "&because; we need one reference point to access a value: either a label or a position  \n",
    "- a `Series` combines and expands the best features of Python's native data structures  \n",
    "    - like a list, it holds its values in a sequenced order  \n",
    "    - like a dictionary, it assigns a label(key) to each value  \n",
    "    &rightarrow; we gain the benefits of both of those objects plus more than 180 methods for data manipulation  \n",
    "\n",
    "<br>\n",
    "\n",
    "We're going to familiarize ourselves with the mechanics of a `Series` object,  \n",
    "learn how to calculate the sum and average of `Series` values,  \n",
    "apply mathematical operations to each value in a `Series`, ...  \n",
    "\n",
    "<br>\n",
    "\n",
    "## **2.1 Overview of a Series**  \n",
    "---  \n",
    "Let's create some `Series` objects.  \n",
    "We'll begin by importing the pandas and NumPy packages.  \n",
    "(We're gonna use NumPy in section 2.1.4.)  \n",
    "- use the `import` keyword  \n",
    "- using `as` keyword, assign an alias to each package\n",
    "- the popular community aliases for libraries:  \n",
    "    - pandas: `pd`\n",
    "    - NumPy: `np`"
   ]
  },
  {
   "cell_type": "code",
   "execution_count": 1,
   "metadata": {},
   "outputs": [],
   "source": [
    "import pandas as pd\n",
    "import numpy as np"
   ]
  },
  {
   "cell_type": "markdown",
   "metadata": {},
   "source": [
    "`pd` \n",
    "- the `pd` namespace holds the top-level exports of the `pandas` package,  \n",
    "a bundle of more than 100 classes, functions, exceptions, constants, ...  \n",
    "- think of `pd` as being the lobby to the library  \n",
    "&rightarrow; an entrance room where we can access pandas' available features\n",
    "- the pandas' exports are available as attributes on `pd`  \n",
    "we can access an attribute with dot syntax:  \n",
    "`pd.attribute`  \n",
    "\n",
    "<br>\n",
    "\n",
    "### 2.1.1 Classes and instances  \n",
    "*class*:  \n",
    "- a blueprint for a Python object  \n",
    "&rightarrow; The `pd.Series` class is a template\n",
    "- need to create a concrete instance of it  \n",
    "- instantiate an object from a class with parentheses:  "
   ]
  },
  {
   "cell_type": "code",
   "execution_count": 2,
   "metadata": {},
   "outputs": [
    {
     "data": {
      "text/plain": [
       "Series([], dtype: object)"
      ]
     },
     "execution_count": 2,
     "metadata": {},
     "output_type": "execute_result"
    }
   ],
   "source": [
    "pd.Series()"
   ]
  },
  {
   "cell_type": "markdown",
   "metadata": {},
   "source": [
    "### 2.1.2 Populating the Series with values  \n",
    "*constructor*:  \n",
    "- a method that builds an object from a class  \n",
    "ex) when we wrote `pd.Series()`, we used the `Seires` constructor to create a new `Series` object  \n",
    "\n",
    "\n",
    "starting state:  \n",
    "- think of it as being object's initial configuration(settings)  \n",
    "- we can often set it by passing arguments to the constructor  \n",
    "    - *argument*: an input we pass to a method  \n",
    "\n",
    "<br>  \n",
    "\n",
    "practice creating `Series` from manual data:  \n",
    "- goal:  \n",
    "to get comfortable with the look and feel of the data structure  \n",
    "- the first argument:  \n",
    "an iterable object whose values will populate the `Series`  \n",
    "    - we can pass various inputs:  \n",
    "    -lists  \n",
    "    -dictionaries  \n",
    "    -tuples  \n",
    "    -NumPy `ndarray`s  \n",
    "    -...  \n",
    "- we're going to create a `Series` object with data from a Python list  \n",
    "    - declare a list of four strings  \n",
    "    - pass the list to the `Series` constructor\n",
    "\n"
   ]
  },
  {
   "cell_type": "code",
   "execution_count": 3,
   "metadata": {},
   "outputs": [
    {
     "data": {
      "text/plain": [
       "0     Chocolate\n",
       "1       Vanilla\n",
       "2    Strawberry\n",
       "3    Rum Raisin\n",
       "dtype: object"
      ]
     },
     "execution_count": 3,
     "metadata": {},
     "output_type": "execute_result"
    }
   ],
   "source": [
    "ice_cream_flavors = [\n",
    "    \"Chocolate\",\n",
    "    \"Vanilla\",\n",
    "    \"Strawberry\",\n",
    "    \"Rum Raisin\",\n",
    "]\n",
    "\n",
    "pd.Series(ice_cream_flavors)"
   ]
  },
  {
   "cell_type": "markdown",
   "metadata": {},
   "source": [
    "We've created a new `Series` with the four values form `ice_cream_flavors` list.  \n",
    "Notice that pandas preserves the order of the values."
   ]
  }
 ],
 "metadata": {
  "kernelspec": {
   "display_name": "bo_pandas-in-action",
   "language": "python",
   "name": "python3"
  },
  "language_info": {
   "codemirror_mode": {
    "name": "ipython",
    "version": 3
   },
   "file_extension": ".py",
   "mimetype": "text/x-python",
   "name": "python",
   "nbconvert_exporter": "python",
   "pygments_lexer": "ipython3",
   "version": "3.8.18"
  }
 },
 "nbformat": 4,
 "nbformat_minor": 2
}
