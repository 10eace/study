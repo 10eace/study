{
 "cells": [
  {
   "cell_type": "markdown",
   "metadata": {},
   "source": [
    "# **Chpater 02: The Series object**  \n",
    "\n",
    "gonna learn about:\n",
    "- Instantiating `Series` objects from lists, dictionaries, tuples, and more\n",
    "- Setting a custom index on a `Series`\n",
    "- Accessing attributes and invoking methods on\n",
    "a `Series`\n",
    "- Performing mathematical operations on one\n",
    "or more `Series`\n",
    "- Passing the `Series` to Python’s built-in functions\n",
    "\n",
    "<br>  \n",
    "\n",
    "`Series`:  \n",
    "- one of pandas' core data structures  \n",
    "- a one-dimensional labeled array for homogeneous data  \n",
    "    - *array*:  \n",
    "    an ordered collection of values comparable to a list in Python  \n",
    "    - *homogeneous*:  \n",
    "    the values are of the same data type  \n",
    "    (ex. all integers or all Booleans, ...)  \n",
    "    - *labeled*:  \n",
    "        - pandas assigns each `Series` value a *label*  \n",
    "        - *label*: an identifier we can use to locate the value\n",
    "- pandas assigns each `Series` value an *order*  \n",
    "    - *order*:  \n",
    "    a position in line  \n",
    "    it starts counting from 0  \n",
    "    &rightarrow; the first `Series` value occupies position 0, the second value occupies position 1, and so on  \n",
    "- the `Series` is a one-dimensional data structure  \n",
    "&because; we need one reference point to access a value: either a label or a position  \n",
    "- a `Series` combines and expands the best features of Python's native data structures  \n",
    "    - like a list, it holds its values in a sequenced order  \n",
    "    - like a dictionary, it assigns a label(key) to each value  \n",
    "    &rightarrow; we gain the benefits of both of those objects plus more than 180 methods for data manipulation  \n",
    "\n",
    "<br>\n",
    "\n",
    "We're going to familiarize ourselves with the mechanics of a `Series` object,  \n",
    "learn how to calculate the sum and average of `Series` values,  \n",
    "apply mathematical operations to each value in a `Series`, ...  \n",
    "\n",
    "<br>\n",
    "\n",
    "## **2.1 Overview of a Series**  \n",
    "---  \n",
    "Let's create some `Series` objects.  \n",
    "We'll begin by importing the pandas and NumPy packages.  \n",
    "(We're gonna use NumPy in section 2.1.4.)  \n",
    "- use the `import` keyword  \n",
    "- using `as` keyword, assign an alias to each package\n",
    "- the popular community aliases for libraries:  \n",
    "    - pandas: `pd`\n",
    "    - NumPy: `np`"
   ]
  },
  {
   "cell_type": "code",
   "execution_count": 1,
   "metadata": {},
   "outputs": [],
   "source": [
    "import pandas as pd\n",
    "import numpy as np"
   ]
  },
  {
   "cell_type": "markdown",
   "metadata": {},
   "source": [
    "`pd` \n",
    "- the `pd` namespace holds the top-level exports of the `pandas` package,  \n",
    "a bundle of more than 100 classes, functions, exceptions, constants, ...  \n",
    "- think of `pd` as being the lobby to the library  \n",
    "&rightarrow; an entrance room where we can access pandas' available features\n",
    "- the pandas' exports are available as attributes on `pd`  \n",
    "we can access an attribute with dot syntax:  \n",
    "`pd.attribute`  \n",
    "\n",
    "<br>\n",
    "\n",
    "### 2.1.1 Classes and instances  \n",
    "*class*:  \n",
    "- a blueprint for a Python object  \n",
    "&rightarrow; The `pd.Series` class is a template\n",
    "- need to create a concrete instance of it  \n",
    "- instantiate an object from a class with parentheses:  "
   ]
  },
  {
   "cell_type": "code",
   "execution_count": 2,
   "metadata": {},
   "outputs": [
    {
     "data": {
      "text/plain": [
       "Series([], dtype: object)"
      ]
     },
     "execution_count": 2,
     "metadata": {},
     "output_type": "execute_result"
    }
   ],
   "source": [
    "pd.Series()"
   ]
  },
  {
   "cell_type": "markdown",
   "metadata": {},
   "source": [
    "### 2.1.2 Populating the Series with values  \n",
    "*constructor*:  \n",
    "- a method that builds an object from a class  \n",
    "ex) when we wrote `pd.Series()`, we used the `Seires` constructor to create a new `Series` object  \n",
    "\n",
    "\n",
    "starting state:  \n",
    "- think of it as being object's initial configuration(settings)  \n",
    "- we can often set it by passing arguments to the constructor  \n",
    "    - *argument*: an input we pass to a method  \n",
    "\n",
    "<br>  \n",
    "\n",
    "practice creating `Series` from manual data:  \n",
    "- goal:  \n",
    "to get comfortable with the look and feel of the data structure  \n",
    "- the first argument:  \n",
    "an iterable object whose values will populate the `Series`  \n",
    "    - we can pass various inputs:  \n",
    "    -lists  \n",
    "    -dictionaries  \n",
    "    -tuples  \n",
    "    -NumPy `ndarray`s  \n",
    "    -...  \n",
    "- we're going to create a `Series` object with data from a Python list  \n",
    "    - declare a list of four strings  \n",
    "    - pass the list to the `Series` constructor\n",
    "\n"
   ]
  },
  {
   "cell_type": "code",
   "execution_count": 3,
   "metadata": {},
   "outputs": [
    {
     "data": {
      "text/plain": [
       "0     Chocolate\n",
       "1       Vanilla\n",
       "2    Strawberry\n",
       "3    Rum Raisin\n",
       "dtype: object"
      ]
     },
     "execution_count": 3,
     "metadata": {},
     "output_type": "execute_result"
    }
   ],
   "source": [
    "ice_cream_flavors = [\n",
    "    \"Chocolate\",\n",
    "    \"Vanilla\",\n",
    "    \"Strawberry\",\n",
    "    \"Rum Raisin\",\n",
    "]\n",
    "\n",
    "pd.Series(ice_cream_flavors)"
   ]
  },
  {
   "cell_type": "markdown",
   "metadata": {},
   "source": [
    "We've created a new `Series` with the four values form `ice_cream_flavors` list.  \n",
    "Notice that pandas preserves the order of the values.  \n",
    "\n",
    "<br>\n",
    "\n",
    "*parameter*:  \n",
    "- a name given to an expected input to a function or method  \n",
    "- Python matches every argument we pass to a constructor with a parameter  \n",
    "- the `Series` constructor define six parameters:  \n",
    "    - `data`\n",
    "    - `index`  \n",
    "    - `dtype`  \n",
    "    - `name`  \n",
    "    - `copy`  \n",
    "    - `fastpath`  \n",
    "- we can use these parameters to set the object's initial state  \n",
    "&rightarrow; parameters can be regarded as being configuration options for the object  \n",
    "- if we don't pass a argument to a parameter, Python uses the parameter's *default argument*  \n",
    "ex) if we don't pass a value for the `name` parameter, Python will use `None` which is the default argument for the `name` parameter  \n",
    "- a parameter with a default argument is inherently optional  \n",
    "&because; it will always have some argument, either explicitly from its invocation or implicitly from its definition  \n",
    "ex) we were able to instantiate a `Series` without arguments because all 6 parameters are optional  \n",
    "- we can connect parameters and arguments explicitly with keyword arguments  \n",
    "- keyword arguments are advantageous  \n",
    "    because:\n",
    "    - they provide context for what each constructor argument represents  \n",
    "    - they permit us to pass parameters in any order  \n",
    "    &therefore; following examples make the same `Series` object:  \n",
    "    `pd.Series(data=ice_cream_flavors, index=None)`  \n",
    "    `pd.Series(index=None, data=ice_cream_flavors)`\n",
    "\n",
    "<br>\n",
    "\n",
    "We'll pass the argument to the `data` parameter explicitly by using a keyword argument:"
   ]
  },
  {
   "cell_type": "code",
   "execution_count": 4,
   "metadata": {},
   "outputs": [
    {
     "data": {
      "text/plain": [
       "0     Chocolate\n",
       "1       Vanilla\n",
       "2    Strawberry\n",
       "3    Rum Raisin\n",
       "dtype: object"
      ]
     },
     "execution_count": 4,
     "metadata": {},
     "output_type": "execute_result"
    }
   ],
   "source": [
    "pd.Series(data=ice_cream_flavors)"
   ]
  },
  {
   "cell_type": "markdown",
   "metadata": {},
   "source": [
    "### 2.1.3 Customizing the Series index  \n",
    "We mentioned that pandas assigns a position in line to each `Series` value.  \n",
    "\n",
    "\n",
    "*index*:  \n",
    "- the collection of increamenting integers on the left side of the `Series`  \n",
    "- each number of index signifies a value's order within the `Series`  \n",
    "- starts counting from 0  \n",
    "the `\"Chocolate\"` occupies index 0, the `\"Vanilla\"` occupies index 1, and so on  \n",
    "- its term \"index\" describes both the collection of identifiers and an individual identifier  \n",
    "&rightarrow; following two expressions are valid:  \n",
    "    1. \"The index of the Series consists of integers\"\n",
    "    2. \"The value `Strawberry` is found at index 2\"  \n",
    "- the last index position will always be 1 less than the total number of values  \n",
    "&because; the index starts counting from 0\n",
    "&rightarrow; the `Series` has four ice cream flavors, so the index counts up to 3  \n",
    "- we can assign each `Series` value an index label  \n",
    "    - index labels can be of any immutable data type:  \n",
    "    strings, tuples, datetimes, ...  \n",
    "    - its flexibility makes a `Series` powerful  \n",
    "    we can reference a value by its order or by its key/label  \n",
    "    &rightarrow; in a sense, each values has two identifiers  \n",
    "- `index` which is a parameter of the `Series` constructor:  \n",
    "sets the index labels of the `Series`  \n",
    "    - if we don't pass an argument to the parameter, pandas defaults to a numeric index starting from 0  \n",
    "    - with this type of index, the label and the position identifier are one and the same\n",
    "- index permits duplicates,  \n",
    "a detail that distinguishes a `Series` from a Python dictionary  \n",
    "    - but, duplication is not recommended  \n",
    "    - it is ideal to avoid duplicate index labels whenever possible  \n",
    "    &because; unique index allows the library to locate index labes more quickly\n",
    "\n",
    "<br>  \n",
    "\n",
    "practice:  \n",
    "- we'll construct a `Series` with a custom index  \n",
    "- we can pass objects of different data types to the `data` and `index` parameters  \n",
    "but, they must have the same length  \n",
    "- we're going to pass a list of strings(length: 4) for the `data` parameter  \n",
    "- we're going to pass a tuple of strings(length: 4) to the `index` parameter"
   ]
  },
  {
   "cell_type": "code",
   "execution_count": 5,
   "metadata": {},
   "outputs": [
    {
     "data": {
      "text/plain": [
       "Monday        Chocolate\n",
       "Wednesday       Vanilla\n",
       "Friday       Strawberry\n",
       "Saturday     Rum Raisin\n",
       "dtype: object"
      ]
     },
     "execution_count": 5,
     "metadata": {},
     "output_type": "execute_result"
    }
   ],
   "source": [
    "ice_cream_flavors = [\n",
    "    \"Chocolate\",\n",
    "    \"Vanilla\",\n",
    "    \"Strawberry\",\n",
    "    \"Rum Raisin\"\n",
    "]\n",
    "\n",
    "days_of_week = (\"Monday\", \"Wednesday\", \"Friday\", \"Saturday\")\n",
    "\n",
    "# The following statements are equivalent\n",
    "pd.Series(ice_cream_flavors, days_of_week)\n",
    "pd.Series(data = ice_cream_flavors, index = days_of_week)"
   ]
  },
  {
   "cell_type": "markdown",
   "metadata": {},
   "source": [
    "practice explanation:\n",
    "- pandas uses shared index positions to associate the values from the `ice_cream_flavors` list and the `days_of_week` tuple  \n",
    "- pandas sees `\"Rum Raisin\"` and `\"Saturday\"` at index position 3 in their respective objects  \n",
    "&rightarrow; pandas ties them together in the `Series`  \n",
    "- even though the index consists of string labels,  \n",
    "pandas still assigns each `Series` value an index position  \n",
    "&rightarrow; we can access the value `\"Vanilla\"` either by the index label `\"Wednesday\"` or by index position 1  \n",
    "\n",
    "<br>\n",
    "\n",
    "`dtype` statement at the bottom of the output:  \n",
    "- reflects the data type of the values in the `Series`  \n",
    "- for most data types, pandas will display a predictable type  \n",
    "(such as `bool`, `float`, `int`, ...)  \n",
    "- for strings and more-complex objects, pandas will display `object`  \n",
    "- pandas does its best to infer an appropriate data type for the `Series` from the `data` parameter's values  \n",
    "- we can force coercion to a different type via the constructor's `dtype` parameter  \n",
    "\n",
    "<br>\n",
    "\n",
    "practice:  \n",
    "- we'll create `Series` objects from lists of Boolean, integer, and floating-point values  \n",
    "- we'll create a `Series` object from list of integer values and specify the `dtype` parameter to force the data type to be `float64`\n"
   ]
  },
  {
   "cell_type": "code",
   "execution_count": 6,
   "metadata": {},
   "outputs": [
    {
     "data": {
      "text/plain": [
       "0     True\n",
       "1    False\n",
       "2    False\n",
       "dtype: bool"
      ]
     },
     "execution_count": 6,
     "metadata": {},
     "output_type": "execute_result"
    }
   ],
   "source": [
    "bunch_of_bools = [True, False, False]\n",
    "pd.Series(bunch_of_bools)"
   ]
  },
  {
   "cell_type": "code",
   "execution_count": 7,
   "metadata": {},
   "outputs": [
    {
     "data": {
      "text/plain": [
       "Open     985.32\n",
       "Close    950.44\n",
       "dtype: float64"
      ]
     },
     "execution_count": 7,
     "metadata": {},
     "output_type": "execute_result"
    }
   ],
   "source": [
    "stock_prices = [985.32, 950.44]\n",
    "time_of_day = [\"Open\", \"Close\"]\n",
    "pd.Series(data = stock_prices, index = time_of_day)"
   ]
  },
  {
   "cell_type": "code",
   "execution_count": 8,
   "metadata": {},
   "outputs": [
    {
     "data": {
      "text/plain": [
       "0     4\n",
       "1     8\n",
       "2    15\n",
       "3    16\n",
       "4    23\n",
       "5    42\n",
       "dtype: int64"
      ]
     },
     "execution_count": 8,
     "metadata": {},
     "output_type": "execute_result"
    }
   ],
   "source": [
    "lucky_numbers = [4, 8, 15, 16, 23, 42]\n",
    "pd.Series(lucky_numbers)"
   ]
  },
  {
   "cell_type": "code",
   "execution_count": 9,
   "metadata": {},
   "outputs": [
    {
     "data": {
      "text/plain": [
       "0     4.0\n",
       "1     8.0\n",
       "2    15.0\n",
       "3    16.0\n",
       "4    23.0\n",
       "5    42.0\n",
       "dtype: float64"
      ]
     },
     "execution_count": 9,
     "metadata": {},
     "output_type": "execute_result"
    }
   ],
   "source": [
    "lucky_numbers = [4, 8, 15, 16, 23, 42]\n",
    "pd.Series(lucky_numbers, dtype = \"float\")"
   ]
  },
  {
   "cell_type": "markdown",
   "metadata": {},
   "source": [
    "practice explanation:  \n",
    "- the `float64` data type indicate that each floating-point value occupies 64 bits(8 bytes) of your computer's memory(RAM)  \n",
    "- the `int64` data type indicate that each integer value occupies 64 bits(8 bytes) of your computer's memory(RAM)  \n",
    "- the `Series` constructor expects the `dtype` parameter to be third in line  \n",
    "&therefore; we cannot pass it directly after the `lucky_numbers`  \n",
    "&therefore; we have to use keyword arguments\n",
    "\n"
   ]
  }
 ],
 "metadata": {
  "kernelspec": {
   "display_name": "bo_pandas-in-action",
   "language": "python",
   "name": "python3"
  },
  "language_info": {
   "codemirror_mode": {
    "name": "ipython",
    "version": 3
   },
   "file_extension": ".py",
   "mimetype": "text/x-python",
   "name": "python",
   "nbconvert_exporter": "python",
   "pygments_lexer": "ipython3",
   "version": "3.8.18"
  }
 },
 "nbformat": 4,
 "nbformat_minor": 2
}
