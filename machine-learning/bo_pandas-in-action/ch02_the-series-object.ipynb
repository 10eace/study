{
 "cells": [
  {
   "cell_type": "markdown",
   "metadata": {},
   "source": [
    "# **Chpater 02: The Series object**  \n",
    "\n",
    "gonna learn about:\n",
    "- Instantiating `Series` objects from lists, dictionaries, tuples, and more\n",
    "- Setting a custom index on a `Series`\n",
    "- Accessing attributes and invoking methods on\n",
    "a `Series`\n",
    "- Performing mathematical operations on one\n",
    "or more `Series`\n",
    "- Passing the `Series` to Python’s built-in functions"
   ]
  }
 ],
 "metadata": {
  "kernelspec": {
   "display_name": "bo_pandas-in-action",
   "language": "python",
   "name": "python3"
  },
  "language_info": {
   "name": "python",
   "version": "3.8.18"
  }
 },
 "nbformat": 4,
 "nbformat_minor": 2
}
