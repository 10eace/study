{
 "cells": [
  {
   "cell_type": "markdown",
   "metadata": {},
   "source": [
    "# **ch1. 헬로 파이썬**  \n",
    "### 파이썬에 대해 알아보기  \n",
    "\n",
    "<br/>  \n",
    "\n",
    "- - -  \n",
    "\n",
    "<br/>  \n",
    "\n",
    "#### 1.4.2 클래스  \n",
    "class를 정의하면 독자적인 data type을 만들 수 있음  \n",
    "class에는 method(전용 함수)와 arrtibute를 정의할 수도 있음  \n",
    "\n",
    "\n",
    "class의 구조  \n",
    "> ```\n",
    "> class class_name:\n",
    ">    def __init__(self, factor, ...):    # constructor(생성자)\n",
    ">        ...\n",
    ">    def method_name_1(self, factor, ...):   # method1\n",
    ">        ...\n",
    ">    def method_name_2(self, factor, ...):   # method2\n",
    ">        ...\n",
    ">```\n",
    "\n",
    "\n",
    "class의 definition에는 `__init__`이라는 method가 있는데, class를 initialize하는 방법을 정의함  \n",
    "이 initialization용 method를 constructor라고 하며, class의 instance가 만들어질 때 한 번만 call됨  \n",
    "python에서는 method의 첫 번째 factor로 자신(자신의 instance)을 나타내는 `self`를 명시적으로 씀  \n",
    "\n",
    "<br/>\n",
    "\n",
    "간단한 class 만들기\n",
    "\n"
   ]
  },
  {
   "cell_type": "code",
   "execution_count": 7,
   "metadata": {},
   "outputs": [],
   "source": [
    "class Man:\n",
    "    def __init__(self, name):\n",
    "        self.name = name\n",
    "        print('Initialized')\n",
    "\n",
    "    def hello(self):\n",
    "        print('Hello '+self.name+'!')\n",
    "    \n",
    "    def goodbye(self):\n",
    "        print('Good-bye '+self.name+'!')"
   ]
  },
  {
   "cell_type": "code",
   "execution_count": 8,
   "metadata": {},
   "outputs": [
    {
     "name": "stdout",
     "output_type": "stream",
     "text": [
      "Initialized\n",
      "Hello David!\n",
      "Good-bye David!\n"
     ]
    }
   ],
   "source": [
    "m = Man('David')\n",
    "m.hello()\n",
    "m.goodbye()"
   ]
  },
  {
   "cell_type": "markdown",
   "metadata": {},
   "source": [
    "`Man`이라는 class를 define하고, `m`이라는 instance(object)를 생성함  \n",
    "`Man`의 constructor는 `name`이라는 factor를 받고, 해당 factor로 instance variance(instance별로 저장되는 variance)인 `self.name`를 initialize함  \n",
    "python에서는 `self.name`처럼 `self`다음에 attribute 이름을 작성하여 instance variance를 만들거나 접근할 수 있음\n",
    "\n",
    "\n",
    "<br/>  \n",
    "\n",
    "- - -  \n",
    "\n",
    "<br/>  \n",
    "\n",
    "### *1.5 넘파이*  \n",
    "deep learning을 구현할 때 array나 matrix를 많이 다루는데, numpy의 array class인 `numpy.class`에는 편리한 method가 많이 준비되어 있어 deep learning을 구현하는 데 많이 사용함\n",
    "\n",
    "<br/>\n",
    "\n",
    "#### 1.5.1 넘파이 가져오기  \n"
   ]
  }
 ],
 "metadata": {
  "kernelspec": {
   "display_name": "bo_deep-learning-from-scratch",
   "language": "python",
   "name": "python3"
  },
  "language_info": {
   "codemirror_mode": {
    "name": "ipython",
    "version": 3
   },
   "file_extension": ".py",
   "mimetype": "text/x-python",
   "name": "python",
   "nbconvert_exporter": "python",
   "pygments_lexer": "ipython3",
   "version": "3.8.18"
  }
 },
 "nbformat": 4,
 "nbformat_minor": 2
}
