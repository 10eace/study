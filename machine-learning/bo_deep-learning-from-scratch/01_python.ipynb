{
 "cells": [
  {
   "cell_type": "markdown",
   "metadata": {},
   "source": [
    "# **ch1. 헬로 파이썬**  \n",
    "### 파이썬에 대해 알아보기  \n",
    "\n",
    "<br/>  \n",
    "\n",
    "- - -  \n",
    "\n",
    "<br/>  \n",
    "\n",
    "#### 1.4.2 클래스  \n",
    "class를 정의하면 독자적인 data type을 만들 수 있음  \n",
    "class에는 method(전용 함수)와 arrtibute를 정의할 수도 있음  \n",
    "\n",
    "\n",
    "class의 구조  \n",
    "> ```\n",
    "> class class_name:\n",
    ">    def __init__(self, factor, ...):    # constructor(생성자)\n",
    ">        ...\n",
    ">    def method_name_1(self, factor, ...):   # method1\n",
    ">        ...\n",
    ">    def method_name_2(self, factor, ...):   # method2\n",
    ">        ...\n",
    ">```\n",
    "\n",
    "\n",
    "class의 definition에는 `__init__`이라는 method가 있는데, class를 initialize하는 방법을 정의함  \n",
    "이 initialization용 method를 constructor라고 하며, class의 instance가 만들어질 때 한 번만 call됨  \n",
    "python에서는 method의 첫 번째 factor로 자신(자신의 instance)을 나타내는 `self`를 명시적으로 씀  \n",
    "\n",
    "<br/>\n",
    "\n",
    "간단한 class 만들기\n",
    "\n"
   ]
  },
  {
   "cell_type": "code",
   "execution_count": 1,
   "metadata": {},
   "outputs": [],
   "source": [
    "class Man:\n",
    "    def __init__(self, name):\n",
    "        self.name = name\n",
    "        print('Initialized')\n",
    "\n",
    "    def hello(self):\n",
    "        print('Hello '+self.name+'!')\n",
    "    \n",
    "    def goodbye(self):\n",
    "        print('Good-bye '+self.name+'!')"
   ]
  },
  {
   "cell_type": "code",
   "execution_count": 2,
   "metadata": {},
   "outputs": [
    {
     "name": "stdout",
     "output_type": "stream",
     "text": [
      "Initialized\n",
      "Hello David!\n",
      "Good-bye David!\n"
     ]
    }
   ],
   "source": [
    "m = Man('David')\n",
    "m.hello()\n",
    "m.goodbye()"
   ]
  },
  {
   "cell_type": "markdown",
   "metadata": {},
   "source": [
    "`Man`이라는 class를 define하고, `m`이라는 instance(object)를 생성함  \n",
    "`Man`의 constructor는 `name`이라는 factor를 받고, 해당 factor로 instance variance(instance별로 저장되는 variance)인 `self.name`를 initialize함  \n",
    "python에서는 `self.name`처럼 `self`다음에 attribute 이름을 작성하여 instance variance를 만들거나 접근할 수 있음\n",
    "\n",
    "\n",
    "<br/>  \n",
    "\n",
    "- - -  \n",
    "\n",
    "<br/>  \n",
    "\n",
    "### *1.5 넘파이*  \n",
    "deep learning을 구현할 때 array나 matrix를 많이 다루는데, numpy의 array class인 `numpy.class`에는 편리한 method가 많이 준비되어 있어 deep learning을 구현하는 데 많이 사용함\n",
    "\n",
    "<br/>\n",
    "\n",
    "#### 1.5.1 넘파이 가져오기  \n",
    "numpy는 외부 library이므로 import해야 함"
   ]
  },
  {
   "cell_type": "code",
   "execution_count": 3,
   "metadata": {},
   "outputs": [],
   "source": [
    "import numpy as np"
   ]
  },
  {
   "cell_type": "markdown",
   "metadata": {},
   "source": [
    "numpy array를 만들 때에는 `np.array()` method를 사용함  \n",
    "`np.array()`는 python list를 factor로 받아 numpy가 제공하는 특수한 형태의 array를 return함"
   ]
  },
  {
   "cell_type": "code",
   "execution_count": 4,
   "metadata": {},
   "outputs": [
    {
     "name": "stdout",
     "output_type": "stream",
     "text": [
      "[1. 2. 3.]\n",
      "<class 'numpy.ndarray'>\n"
     ]
    }
   ],
   "source": [
    "x = np.array([1.0, 2.0, 3.0])\n",
    "print(x)\n",
    "print(type(x))"
   ]
  },
  {
   "cell_type": "markdown",
   "metadata": {},
   "source": [
    "#### 1.5.3 넘파이의 산술 연산  \n",
    "numpy array의 산술 연산"
   ]
  },
  {
   "cell_type": "code",
   "execution_count": 5,
   "metadata": {},
   "outputs": [
    {
     "name": "stdout",
     "output_type": "stream",
     "text": [
      "[3. 6. 9.]\n",
      "[-1. -2. -3.]\n",
      "[ 2.  8. 18.]\n",
      "[0.5 0.5 0.5]\n"
     ]
    }
   ],
   "source": [
    "x = np.array([1.0, 2.0, 3.0])\n",
    "y = np.array([2.0, 4.0, 6.0])\n",
    "\n",
    "print(x+y)\n",
    "print(x-y)\n",
    "print(x*y)\n",
    "print(x/y)\n"
   ]
  },
  {
   "cell_type": "markdown",
   "metadata": {},
   "source": [
    "위 예시에서는 `x`와 `y`의 element 수가 같음  \n",
    "&rarr; element 수가 같은 array에 대해서는 각 element에 대해서(element-wise) 산술 연산이 진행됨  \n",
    "element 수가 다르면 error가 발생함  \n",
    "\n",
    "\n",
    "numpy array는 element-wise 계산 뿐 아니라 numpy array와 scalar 사이의 연산도 수행할 수 있음  \n",
    "이 경우, scalar와의 계산이 numpy array의 element 별로 한 번씩 수행됨  \n",
    "&rarr; 이를 broadcasting이라고 함"
   ]
  },
  {
   "cell_type": "code",
   "execution_count": 6,
   "metadata": {},
   "outputs": [
    {
     "name": "stdout",
     "output_type": "stream",
     "text": [
      "[0.5 1.  1.5]\n"
     ]
    }
   ],
   "source": [
    "x = np.array([1.0, 2.0, 3.0])\n",
    "\n",
    "print(x/2.0)"
   ]
  },
  {
   "cell_type": "markdown",
   "metadata": {},
   "source": [
    "#### 1.5.4 넘파이의 N차원 배열  \n",
    "numpy는 1 dimenson array뿐 아니라 multi dimension도 작성할 수 있음"
   ]
  },
  {
   "cell_type": "code",
   "execution_count": 7,
   "metadata": {},
   "outputs": [
    {
     "name": "stdout",
     "output_type": "stream",
     "text": [
      "[[1 2]\n",
      " [3 4]]\n"
     ]
    }
   ],
   "source": [
    "a = np.array([[1, 2], [3, 4]])\n",
    "\n",
    "print(a)"
   ]
  },
  {
   "cell_type": "markdown",
   "metadata": {},
   "source": [
    "array의 shape은 `shape`으로, element의 data dype은 `dtype`으로 확인할 수 있음"
   ]
  },
  {
   "cell_type": "code",
   "execution_count": 8,
   "metadata": {},
   "outputs": [
    {
     "name": "stdout",
     "output_type": "stream",
     "text": [
      "(2, 2)\n",
      "int64\n"
     ]
    }
   ],
   "source": [
    "print(a.shape)\n",
    "print(a.dtype)"
   ]
  },
  {
   "cell_type": "markdown",
   "metadata": {},
   "source": [
    "multi dimension array의 산술 연산도 앞선 1 dimension array와 마찬가지로 대응하는 element 별로 계산됨 multi dimension array와 scalar의 연산도 가능함(broadcasting)"
   ]
  },
  {
   "cell_type": "code",
   "execution_count": 9,
   "metadata": {},
   "outputs": [
    {
     "name": "stdout",
     "output_type": "stream",
     "text": [
      "[[ 4  2]\n",
      " [ 3 10]]\n",
      "[[ 3  0]\n",
      " [ 0 24]]\n",
      "[[10 20]\n",
      " [30 40]]\n"
     ]
    }
   ],
   "source": [
    "a = np.array([[1, 2], [3, 4]])\n",
    "b = np.array([[3, 0], [0, 6]])\n",
    "\n",
    "print(a+b)\n",
    "print(a*b)\n",
    "print(a*10)"
   ]
  },
  {
   "cell_type": "markdown",
   "metadata": {},
   "source": [
    "#### 1.5.5 브로드캐스트  \n",
    "numpy에서는 shape이 다른 array끼리도 연산을 수행할 수 있음  \n",
    "앞선 예시에서 2x2 array(matrix)인 `a`에 scalar value인 10을 곱했음  \n",
    "&rarr; 이 때, 10이라는 scalar value가 matrix로 확대되어 연산이 수행됨  \n",
    "&rarr; 이를 broadcasting이라고 함\n",
    "\n",
    "<br/>\n",
    "\n",
    "shape이 다른 array 간의 예시"
   ]
  },
  {
   "cell_type": "code",
   "execution_count": 10,
   "metadata": {},
   "outputs": [
    {
     "name": "stdout",
     "output_type": "stream",
     "text": [
      "[[10 40]\n",
      " [30 80]]\n"
     ]
    }
   ],
   "source": [
    "a = np.array([[1, 2], [3, 4]])\n",
    "b = np.array([10, 20])\n",
    "\n",
    "print(a*b)"
   ]
  },
  {
   "cell_type": "markdown",
   "metadata": {},
   "source": [
    "이 예에서는 1 dimension array(vector)인 `b`가 `a`와 같은 matrix의 shape으로 변환된 후 element-wise 연산이 수행됨\n",
    "\n",
    "<br/>\n",
    "\n",
    "#### 1.5.6 원소 접근  \n",
    "element의 index는 0부터 시작함  \n",
    "\n",
    "<br/>\n",
    "\n",
    "각 element에 access하려면 다음과 같이 함"
   ]
  },
  {
   "cell_type": "code",
   "execution_count": 11,
   "metadata": {},
   "outputs": [
    {
     "name": "stdout",
     "output_type": "stream",
     "text": [
      "[[51 55]\n",
      " [14 19]\n",
      " [ 0  4]]\n",
      "[51 55]\n",
      "55\n"
     ]
    }
   ],
   "source": [
    "x = np.array([[51, 55], [14, 19], [0, 4]])\n",
    "\n",
    "print(x)\n",
    "print(x[0])\n",
    "print(x[0][1])"
   ]
  },
  {
   "cell_type": "markdown",
   "metadata": {},
   "source": [
    "`for`문을 사용하여 각 element에 access할 수도 있음"
   ]
  },
  {
   "cell_type": "code",
   "execution_count": 12,
   "metadata": {},
   "outputs": [
    {
     "name": "stdout",
     "output_type": "stream",
     "text": [
      "[51 55]\n",
      "[14 19]\n",
      "[0 4]\n"
     ]
    }
   ],
   "source": [
    "for row in x:\n",
    "    print(row)"
   ]
  },
  {
   "cell_type": "markdown",
   "metadata": {},
   "source": [
    "numpy는 index를 array로 지정해 한 번에 여러 element에 access할 수도 있음"
   ]
  },
  {
   "cell_type": "code",
   "execution_count": 13,
   "metadata": {},
   "outputs": [
    {
     "name": "stdout",
     "output_type": "stream",
     "text": [
      "[51 14  0]\n"
     ]
    }
   ],
   "source": [
    "x = x.flatten()\n",
    "\n",
    "print(x[np.array([0, 2, 4])])"
   ]
  },
  {
   "cell_type": "markdown",
   "metadata": {},
   "source": [
    "이러한 방법을 활용하면 특정 condition을 만족하는 element만 얻을 수 있음\n",
    "\n",
    "<br/>\n",
    "\n",
    "다음과 같이 value가 15이상인 element만 얻을 수도 있음"
   ]
  },
  {
   "cell_type": "code",
   "execution_count": 15,
   "metadata": {},
   "outputs": [
    {
     "name": "stdout",
     "output_type": "stream",
     "text": [
      "[ True  True False  True False False]\n",
      "[51 55 19]\n"
     ]
    }
   ],
   "source": [
    "print(x>15)\n",
    "\n",
    "print(x[x>15])"
   ]
  },
  {
   "cell_type": "markdown",
   "metadata": {},
   "source": [
    "numpy array에 comparison operator를 사용한 결과는 boolean array  \n",
    "위 예에서는 boolean array를 사용해 `x`에서 `True`에 해당하는 element만 꺼낸 것\n",
    "\n",
    "<br/>\n",
    "\n"
   ]
  }
 ],
 "metadata": {
  "kernelspec": {
   "display_name": "bo_deep-learning-from-scratch",
   "language": "python",
   "name": "python3"
  },
  "language_info": {
   "codemirror_mode": {
    "name": "ipython",
    "version": 3
   },
   "file_extension": ".py",
   "mimetype": "text/x-python",
   "name": "python",
   "nbconvert_exporter": "python",
   "pygments_lexer": "ipython3",
   "version": "3.8.18"
  }
 },
 "nbformat": 4,
 "nbformat_minor": 2
}
