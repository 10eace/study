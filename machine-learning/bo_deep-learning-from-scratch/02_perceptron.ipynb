{
 "cells": [
  {
   "cell_type": "markdown",
   "metadata": {},
   "source": [
    "# **ch.02 퍼셉트론**  \n",
    "### perceptron에 대해 알아보기  \n",
    "\n",
    "<br/>  \n",
    "\n",
    "perceptron은 neural network(deep learning)의 기원이 되는 algorithm  \n",
    "&rarr; perceptron의 structure에 대해 배우면 neural network와 deep learning으로 나아가는 데 중요한 idea를 얻을 수 있음  \n",
    "\n",
    "<br/>  \n",
    "\n",
    "- - -  \n",
    "\n",
    "<br/>  \n",
    "\n",
    "### *2.1* 퍼셉트론이란?  \n",
    "perceptron은 다수의 signal을 input으로 받아 하나의 signal을 내보냄  \n",
    "이 signal은 flow를 만들고 information을 앞으로 전달하며, '흐른다/흐르지 않는다(1/0)'의 두 가지 value만 가질 수 있음\n",
    "\n",
    "<br/>\n",
    "\n",
    "perceptron  \n",
    "\n",
    "![perceptron](/workspaces/study/machine-learning/bo_deep-learning-from-scratch/2-1_perceptron.png)  \n",
    "\n",
    "위 그림은 입력으로 2개의 signal을 받은 perceptron의 예시임  \n",
    "$x_1, x_2$는 input, $y$는 output, $w_1, w_2$는 weight를 나타냄  \n",
    "그림의 원은 neuron 혹은 node라고 함  \n",
    "\n",
    "\n",
    "input signal이 neuron에 보내질 때, 각각 고유한 weight가 곱해짐($w_1x_1$, $w_2x_2$)  \n",
    "neuron에서 보내온 signal의 총합이 정해진 limit를 넘어설 때만 1을 출력함(neuron의 활성화)  \n",
    "이 limit을 임계값($\\theta$)이라고 함"
   ]
  }
 ],
 "metadata": {
  "kernelspec": {
   "display_name": "bo_deep-learning-from-scratch",
   "language": "python",
   "name": "python3"
  },
  "language_info": {
   "codemirror_mode": {
    "name": "ipython",
    "version": 3
   },
   "file_extension": ".py",
   "mimetype": "text/x-python",
   "name": "python",
   "nbconvert_exporter": "python",
   "pygments_lexer": "ipython3",
   "version": "3.8.18"
  }
 },
 "nbformat": 4,
 "nbformat_minor": 2
}
