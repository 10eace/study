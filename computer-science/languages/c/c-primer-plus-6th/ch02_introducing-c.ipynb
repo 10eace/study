{
 "cells": [
  {
   "cell_type": "markdown",
   "metadata": {},
   "source": [
    "# **Chapter 02 Introducing C**  \n",
    "\n",
    "\n",
    "Gonna learn about:\n",
    "- Operator:  \n",
    "    `=`\n",
    "- Functions:  \n",
    "    `main()`, `printf()`\n",
    "- Putting together a simple C program\n",
    "- The newline character\n",
    "- How to include comments in your programs, create programs containing more than one function, and find program errors\n",
    "- What keywords are\n",
    "\n",
    "<br/>\n",
    "\n",
    "## **A Simple Example of C**\n",
    "We're going to look at a simple C program which serves to point out some of the basic featrues of programming in C. "
   ]
  },
  {
   "cell_type": "code",
   "execution_count": 2,
   "metadata": {},
   "outputs": [
    {
     "name": "stdout",
     "output_type": "stream",
     "text": [
      "I am a simple computer.\n",
      "My favorite number is 1 because it is first.\n"
     ]
    }
   ],
   "source": [
    "// Listing 2.1 The first.c program\n",
    "\n",
    "#include <stdio.h>\n",
    "\n",
    "int main(void){    /* a simple program */\n",
    "    int num;    /* define a variable called num*/\n",
    "    num = 1;    /* assign a value to num */\n",
    "    \n",
    "    printf(\"I am a simple \");    /* use the printf() function */\n",
    "    printf(\"computer.\\n\");\n",
    "    printf(\"My favorite number is %d because it is first.\\n\", num);\n",
    "\n",
    "    return 0;\n",
    "}"
   ]
  },
  {
   "cell_type": "markdown",
   "metadata": {},
   "source": [
    "### The Example Explained  \n",
    "We'll take two passes through the program's source code.  \n",
    "- the first pass highlights the meaning of each line\n",
    "- the second pass explores specific implications and details  \n",
    "\n",
    "\n",
    "```\n",
    "\n",
    "```"
   ]
  }
 ],
 "metadata": {
  "kernelspec": {
   "display_name": "C",
   "language": "c",
   "name": "c"
  },
  "language_info": {
   "file_extension": ".c",
   "mimetype": "text/plain",
   "name": "c"
  }
 },
 "nbformat": 4,
 "nbformat_minor": 2
}
