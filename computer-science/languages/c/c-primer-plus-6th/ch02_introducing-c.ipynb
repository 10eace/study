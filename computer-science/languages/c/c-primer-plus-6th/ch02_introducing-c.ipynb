{
 "cells": [
  {
   "cell_type": "markdown",
   "metadata": {},
   "source": [
    "# **Chapter 02 Introducing C**  \n",
    "\n",
    "\n",
    "Gonna learn about:\n",
    "- Operator:  \n",
    "    `=`\n",
    "- Functions:  \n",
    "    `main()`, `printf()`\n",
    "- Putting together a simple C program\n",
    "- The newline character\n",
    "- How to include comments in your programs, create programs containing more than one function, and find program errors\n",
    "- What keywords are\n",
    "\n",
    "<br/>\n",
    "\n",
    "## **A Simple Example of C**\n",
    "We're going to look at a simple C program which serves to point out some of the basic featrues of programming in C. "
   ]
  },
  {
   "cell_type": "code",
   "execution_count": 2,
   "metadata": {},
   "outputs": [
    {
     "name": "stdout",
     "output_type": "stream",
     "text": [
      "I am a simple computer.\n",
      "My favorite number is 1 because it is first.\n"
     ]
    }
   ],
   "source": [
    "// Listing 2.1 The first.c program\n",
    "\n",
    "#include <stdio.h>\n",
    "\n",
    "int main(void){    /* a simple program */\n",
    "    int num;    /* define a variable called num*/\n",
    "    num = 1;    /* assign a value to num */\n",
    "    \n",
    "    printf(\"I am a simple \");    /* use the printf() function */\n",
    "    printf(\"computer.\\n\");\n",
    "    printf(\"My favorite number is %d because it is first.\\n\", num);\n",
    "\n",
    "    return 0;\n",
    "}"
   ]
  },
  {
   "cell_type": "markdown",
   "metadata": {},
   "source": [
    "### The Example Explained  \n",
    "We'll take two passes through the program's source code.  \n",
    "- the first pass highlights the meaning of each line\n",
    "- the second pass explores specific implications and details  \n",
    "\n",
    "\n",
    "### Pass 1: Quick Synopsis  \n",
    "**`#include <stdio.h>`**  \n",
    "- It tells the compiler to include the information found in the file `stdio.h`\n",
    "- `stdio.h` file is a standard part of all C compiler packages. It provides support for keyboard input and displaying output.  \n",
    "\n",
    "\n",
    "**`int main(void)`**  \n",
    "- C programs consist of functions, and the functions are basic modules of C program.\n",
    "- This program consists of one function called `main`.\n",
    "- parentheses identify `main()` as a function name.\n",
    "- `int` indicates that the `main()` function returns an integer.\n",
    "- `void` indicates that `main()` doesn't take arguments.\n",
    "- `int` and `void` are part of the standard ANSI C way for defining `main()`  \n",
    "\n",
    "\n",
    "**`/* a simple program */`**  \n",
    "- Comments are enclosed by `/*` and `*/`\n",
    "- Comments remark that help clarify a program.\n",
    "- Comments are intended for the reader only and ignored by the compiler.  \n",
    "\n",
    "\n",
    "**`{`**  \n",
    "- It marks the start of the statements that make up the function.  \n",
    "\n",
    "\n",
    "**`int num;`**  \n",
    "- This statement announces that you are using a variable called `num`.\n",
    "- The variable called `num` will be an `int` type.  \n",
    "\n",
    "\n",
    "**`num = 1;`**  \n",
    "- Assign the value `1` to the variable `num`.  \n",
    "\n",
    "\n",
    "**`printf(\"I am a simple \");`**  \n",
    "- It displays the phrase `I am a simple ` on your screen.\n",
    "- Leaves the cursor on the same line after displaying.\n",
    "- `printf()` is part of the standard C library and termed a function.\n",
    "- Using a function in the program is termed 'calling a function'.  \n",
    "\n",
    "\n",
    "**`printf(\"computer.\\n);`**  \n",
    "- The second function call.\n",
    "- It displays the phrase `computer` to the end of the last phrase printed.\n",
    "- "
   ]
  }
 ],
 "metadata": {
  "kernelspec": {
   "display_name": "C",
   "language": "c",
   "name": "c"
  },
  "language_info": {
   "file_extension": ".c",
   "mimetype": "text/plain",
   "name": "c"
  }
 },
 "nbformat": 4,
 "nbformat_minor": 2
}
