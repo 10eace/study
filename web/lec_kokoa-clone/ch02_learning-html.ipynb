{
 "cells": [
  {
   "cell_type": "markdown",
   "metadata": {},
   "source": [
    "# Chapter 02: Learning HTML  \n",
    "### **2.0 Our First HTML File**  \n",
    "Let's create our first website.  \n",
    "As we know, we need HTML and CSS to make a website.  \n",
    "But, only with HTML, we can create a website and it will work.  \n",
    "\n",
    "<br>\n",
    "\n",
    "We need to create a HTML file to make a website.  \n",
    "The file extension must be `.html`.  \n",
    "$\\because$ `.html` is the extension for HTML files.  \n",
    "\n",
    "<br>\n",
    "\n",
    "Then, we're going to write some code in the HTML file.  \n",
    "```html\n",
    "Hello! This is my first HTML file! Nice to meet You!\n",
    "```  \n",
    "How do we see this HTML file?  \n",
    "As we know, we need a browser to see a website.  \n",
    "$\\rightarrow$ We have to open this HTML file in a browser.  \n",
    "\n",
    "\n",
    "If you open this HTML file in a browser, you'll see as following:\n"
   ]
  },
  {
   "cell_type": "code",
   "execution_count": 2,
   "metadata": {},
   "outputs": [
    {
     "data": {
      "text/html": [
       "Hello! This is my first HTML file!\n",
       "Nice to meet You!"
      ],
      "text/plain": [
       "<IPython.core.display.HTML object>"
      ]
     },
     "metadata": {},
     "output_type": "display_data"
    }
   ],
   "source": [
    "from IPython.display import display, HTML\n",
    "\n",
    "with open('./source-codes/ch02/home.html', 'r') as f:\n",
    "    html_string = f.read()  \n",
    "\n",
    "display(HTML(html_string))"
   ]
  },
  {
   "cell_type": "markdown",
   "metadata": {},
   "source": [
    "You made a website.  \n",
    "If you change or add some code in the HTML file, you can see the changes in the browser.  \n",
    "\n",
    "<br>\n",
    "\n",
    "For example:  \n",
    "If you add some text in your file as following:  \n",
    "```html\n",
    "Hello! This is my first HTML file! Nice to meet You! Can I change something?\n",
    "```  \n",
    "Then, you can see as following in the browser:"
   ]
  },
  {
   "cell_type": "code",
   "execution_count": 3,
   "metadata": {},
   "outputs": [
    {
     "data": {
      "text/html": [
       "Hello! This is my first HTML file! Nice to meet You! Can I change something?"
      ],
      "text/plain": [
       "<IPython.core.display.HTML object>"
      ]
     },
     "metadata": {},
     "output_type": "display_data"
    }
   ],
   "source": [
    "from IPython.display import display, HTML\n",
    "\n",
    "with open('./source-codes/ch02/home.html', 'r') as f:\n",
    "    html_string = f.read()  \n",
    "\n",
    "display(HTML(html_string))"
   ]
  }
 ],
 "metadata": {
  "kernelspec": {
   "display_name": "bo_pandas-in-action",
   "language": "python",
   "name": "python3"
  },
  "language_info": {
   "codemirror_mode": {
    "name": "ipython",
    "version": 3
   },
   "file_extension": ".py",
   "mimetype": "text/x-python",
   "name": "python",
   "nbconvert_exporter": "python",
   "pygments_lexer": "ipython3",
   "version": "3.8.19"
  }
 },
 "nbformat": 4,
 "nbformat_minor": 2
}
