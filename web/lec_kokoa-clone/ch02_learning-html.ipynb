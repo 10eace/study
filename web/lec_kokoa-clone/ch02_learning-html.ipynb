{
 "cells": [
  {
   "cell_type": "markdown",
   "metadata": {},
   "source": [
    "# Chapter 02: Learning HTML  \n",
    "### **2.0 Our First HTML File**  \n",
    "Let's create our first website.  \n",
    "- we need HTML and CSS to make a website  \n",
    "- but, only with HTML, we can create a website  \n",
    "and it will work\n",
    "\n",
    "<br>\n",
    "\n",
    "We need to create a HTML file to make a website.  \n",
    "- the file extension must be `.html`  \n",
    "$\\because$ `.html` is the extension for HTML files  \n",
    "- we're going to write some text in the HTML file:  \n",
    "`Hello! This is my first HTML file! Nice to meet You!`\n",
    "- we can see the webise through a browser  \n",
    "$\\rightarrow$ we have to open this HTML file in a browser  \n",
    "$\\rightarrow$ then, we can see the website\n",
    "- open the HTML file in a browser, you'll see as following:\n"
   ]
  },
  {
   "cell_type": "code",
   "execution_count": 2,
   "metadata": {},
   "outputs": [
    {
     "data": {
      "text/html": [
       "Hello! This is my first HTML file!\n",
       "Nice to meet You!"
      ],
      "text/plain": [
       "<IPython.core.display.HTML object>"
      ]
     },
     "metadata": {},
     "output_type": "display_data"
    }
   ],
   "source": [
    "from IPython.display import display, HTML\n",
    "\n",
    "with open('./source-codes/ch02/home.html', 'r') as f:\n",
    "    html_string = f.read()  \n",
    "\n",
    "display(HTML(html_string))"
   ]
  },
  {
   "cell_type": "markdown",
   "metadata": {},
   "source": [
    "You made a website.  \n",
    "If you change or add some code in the HTML file, you can see the changes in the browser.  \n",
    "\n",
    "<br>\n",
    "\n",
    "For example:  \n",
    "- add some text in your file as following:  \n",
    "`Hello! This is my first HTML file! Nice to meet You! Can I change something?`  \n",
    "- then, you can see as following in the browser:"
   ]
  },
  {
   "cell_type": "code",
   "execution_count": 3,
   "metadata": {},
   "outputs": [
    {
     "data": {
      "text/html": [
       "Hello! This is my first HTML file! Nice to meet You! Can I change something?"
      ],
      "text/plain": [
       "<IPython.core.display.HTML object>"
      ]
     },
     "metadata": {},
     "output_type": "display_data"
    }
   ],
   "source": [
    "from IPython.display import display, HTML\n",
    "\n",
    "with open('./source-codes/ch02/home.html', 'r') as f:\n",
    "    html_string = f.read()  \n",
    "\n",
    "display(HTML(html_string))"
   ]
  },
  {
   "cell_type": "markdown",
   "metadata": {},
   "source": [
    "### **2.1 Setup and Errors**  \n",
    "---  \n",
    "The browser doesn't have errors for the HTML file.  \n",
    "- if you break the code or the rules of HTML, the browser will not show any errors\n",
    "- the browser always try to show you some content \n",
    "- the browser doesn't tell you what's wrong  \n",
    "- pros:  \n",
    "    - our users always see the content  \n",
    "    - the users can't see the errors,  \n",
    "    even if we make a mistake  \n",
    "- cons:  \n",
    "    - we can't see the errors  \n",
    "    - we can't know what's wrong\n",
    "\n",
    "<br>\n",
    "\n",
    "### **2.2 Our First HTML Tag**  \n",
    "---  \n",
    "We're goona learn how to write HTML code.  \n",
    "- HTML code is very simple  \n",
    "$\\because$ the purpose of HTML is that tell to the browser what is content  \n",
    "- so basically, with HTML,  \n",
    "we tell the browser what the content is and where it is\n",
    "- we tell the browser these things with *tags*\n",
    "- whatever we put between the tags, becomes the content\n",
    "- the tags define the type of content\n",
    "\n",
    "<br>\n",
    "\n",
    "Let's create our first HTML tag:  \n",
    "`<food> </food>`\n",
    "- it is not a real HTML tag  \n",
    "$\\therefore$ it doesn't mean anything to the browser  \n",
    "but, the browser will show it  \n",
    "- HTML tags consists of two parts:  \n",
    "    - opening tag: `<food>`  \n",
    "    - closing tag: `</food>`\n",
    "    - the closing tag has a `/` before the tag name\n",
    "    - if we don't close the tag,  \n",
    "    the browser will show all the text as the content of the tag\n",
    "- we can put some text(content) between the tags\n",
    "    - `<food> pizza </food>`\n",
    "    - now, the browser recognizes the `pizza` as a food\n",
    "- only the content between the tags is recognized as content to the browser  \n",
    "- we tell the browser where to start and where to end the content with the tags  \n",
    "$\\rightarrow$ this is syntax of HTML\n",
    "\n",
    "<br>\n",
    "\n",
    "Let's create a real HTML tag:  \n",
    "`<h1> </h1>`\n",
    "- real HTML tag that the browser understands\n",
    "- means: heading 1\n",
    "- it makes the text bigger and bold\n",
    "- when we write the right tags and right content at the right place,  \n",
    "the browser will change the text to the right content\n",
    "- the browser will show following:  \n",
    "`<h1> Hello this is my website!</h1>`  \n",
    "as:"
   ]
  },
  {
   "cell_type": "code",
   "execution_count": 1,
   "metadata": {},
   "outputs": [
    {
     "data": {
      "text/html": [
       "<h1> Hello this is my website!</h1>"
      ],
      "text/plain": [
       "<IPython.core.display.HTML object>"
      ]
     },
     "metadata": {},
     "output_type": "display_data"
    }
   ],
   "source": [
    "from IPython.display import display, HTML\n",
    "\n",
    "with open('./source-codes/ch02/home.html', 'r') as f:\n",
    "    html_string = f.read()  \n",
    "\n",
    "display(HTML(html_string))"
   ]
  },
  {
   "cell_type": "markdown",
   "metadata": {},
   "source": [
    "- it looks like a heading  \n",
    "- we didn't tell the browser to make it a heading  \n",
    "we just used tags\n",
    "- there is 6 heading tags in HTML:  \n",
    "    - `<h1> </h1>`\n",
    "    - `<h2> </h2>`\n",
    "    - `<h3> </h3>`\n",
    "    - `<h4> </h4>`\n",
    "    - `<h5> </h5>`\n",
    "    - `<h6> </h6>`\n",
    "    - they are different in size and boldness"
   ]
  },
  {
   "cell_type": "code",
   "execution_count": 2,
   "metadata": {},
   "outputs": [
    {
     "data": {
      "text/html": [
       "<h1> Hello this is my website!</h1>\n",
       "<h2> Hello this is my website!</h2>\n",
       "<h3> Hello this is my website!</h3>\n",
       "<h4> Hello this is my website!</h4>\n",
       "<h5> Hello this is my website!</h5>\n",
       "<h6> Hello this is my website!</h6>"
      ],
      "text/plain": [
       "<IPython.core.display.HTML object>"
      ]
     },
     "metadata": {},
     "output_type": "display_data"
    }
   ],
   "source": [
    "from IPython.display import display, HTML\n",
    "\n",
    "with open('./source-codes/ch02/home.html', 'r') as f:\n",
    "    html_string = f.read()  \n",
    "\n",
    "display(HTML(html_string))"
   ]
  },
  {
   "cell_type": "markdown",
   "metadata": {},
   "source": [
    "- if we use `<h7> </h7>` tag, as following:  \n",
    "`<h7> Hello this is my website!</h7>`  \n",
    "the browser will show it as a normal text  \n",
    "$\\because$ there is no `<h7>` tag in HTML  \n",
    "$\\therefore$ the browser doesn't understand the text as content, just like when we used `<food> </food>` tag"
   ]
  },
  {
   "cell_type": "code",
   "execution_count": 3,
   "metadata": {},
   "outputs": [
    {
     "data": {
      "text/html": [
       "<h1> Hello this is my website!</h1>\n",
       "<h2> Hello this is my website!</h2>\n",
       "<h3> Hello this is my website!</h3>\n",
       "<h4> Hello this is my website!</h4>\n",
       "<h5> Hello this is my website!</h5>\n",
       "<h6> Hello this is my website!</h6>\n",
       "\n",
       "h7:\n",
       "<h7> Hello this is my website! </h7>"
      ],
      "text/plain": [
       "<IPython.core.display.HTML object>"
      ]
     },
     "metadata": {},
     "output_type": "display_data"
    }
   ],
   "source": [
    "from IPython.display import display, HTML\n",
    "\n",
    "with open('./source-codes/ch02/home.html', 'r') as f:\n",
    "    html_string = f.read()  \n",
    "\n",
    "display(HTML(html_string))"
   ]
  },
  {
   "cell_type": "markdown",
   "metadata": {},
   "source": [
    "We don't have to remember all the tags.  \n",
    "There are so many tags in HTML.  \n",
    "We only need to understand how they work.  "
   ]
  }
 ],
 "metadata": {
  "kernelspec": {
   "display_name": "bo_pandas-in-action",
   "language": "python",
   "name": "python3"
  },
  "language_info": {
   "codemirror_mode": {
    "name": "ipython",
    "version": 3
   },
   "file_extension": ".py",
   "mimetype": "text/x-python",
   "name": "python",
   "nbconvert_exporter": "python",
   "pygments_lexer": "ipython3",
   "version": "3.8.19"
  }
 },
 "nbformat": 4,
 "nbformat_minor": 2
}
