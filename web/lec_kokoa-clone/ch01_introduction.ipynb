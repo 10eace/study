{
 "cells": [
  {
   "cell_type": "markdown",
   "metadata": {},
   "source": [
    "# Chapter 01: Introduction  \n",
    "\n",
    "\n",
    "This lectuer covers HTML and CSS basics.\n",
    "This is for the beginner.\n",
    "This is 2020 updated version.\n",
    "\n",
    "<br>\n",
    "\n",
    "You need to know about HTML and CSS to be a developer even if you don't want to be a web developer.  \n",
    "&because; You will need to know how to make a website.  \n",
    "This lecture is for those who want to learn HTML and CSS from scratch.\n",
    "\n",
    "### **1.5 What Makes a Website?**  \n",
    "We need to understand what is a website and a browser before we start learning HTML and CSS.\n",
    "\n",
    "<br> \n",
    "\n",
    "website:\n",
    "- a website might look complicated  \n",
    "&because; there are so many things on the website (text, buttons, images, videos, ...)\n",
    "- a websit could be very interactive(like netflix) or very simple(like the korea times)\n",
    "- but, all websites are made of **text**  \n",
    "&rightarrow; all the things that are behind interactivities and graphics are just **text**  \n",
    "&rightarrow; all the websites are just **text** files\n",
    "- all we have to do for making a website is to write correct text in correct places\n",
    "\n",
    "\n",
    "browser:\n",
    "- the text file that makes up a website is gonna be useless if we don't give it to a browser  \n",
    "- the browser reads the text file and generates a website that we can see  \n",
    "&rightarrow; we don't make a website, the browser makes a website  \n",
    "\n",
    "<br>\n",
    "\n",
    "Therefore, all we have to do for making a website is to learn what type of text we should write, and where to put the text.  \n",
    "If we follow these 2 rules correctly and give the text file to the browser, we're going to see a website."
   ]
  }
 ],
 "metadata": {
  "language_info": {
   "name": "python"
  }
 },
 "nbformat": 4,
 "nbformat_minor": 2
}
